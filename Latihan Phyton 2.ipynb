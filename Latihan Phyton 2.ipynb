{
 "cells": [
  {
   "cell_type": "code",
   "execution_count": 1,
   "id": "7afa4852",
   "metadata": {},
   "outputs": [
    {
     "name": "stdout",
     "output_type": "stream",
     "text": [
      "masukan angka =21\n",
      "Bye....Bye.....!\n"
     ]
    }
   ],
   "source": [
    "# contoh if tunggal 1\n",
    "angka= int(input('masukan angka ='))\n",
    "if (angka<9):\n",
    "    print(f'nilai {angka} lebih kecil dari 9')\n",
    "print('Bye....Bye.....!')"
   ]
  },
  {
   "cell_type": "code",
   "execution_count": 2,
   "id": "1d7ed1e4",
   "metadata": {},
   "outputs": [
    {
     "name": "stdout",
     "output_type": "stream",
     "text": [
      "nilai 21 adalah bilangan ganjil\n"
     ]
    }
   ],
   "source": [
    "# contoh if tunggal 2 (menggunakan operator aritmatika)\n",
    "if(angka%2==0):\n",
    "    print(f'nilai {angka} adalah bilangan genap')\n",
    "print(f'nilai {angka} adalah bilangan ganjil')"
   ]
  },
  {
   "cell_type": "code",
   "execution_count": 3,
   "id": "fa40ef20",
   "metadata": {},
   "outputs": [
    {
     "name": "stdout",
     "output_type": "stream",
     "text": [
      "masukan nilai X =21\n",
      "nilai 21 tidak sama dengan 13\n",
      "Bye....Bye.....!\n"
     ]
    }
   ],
   "source": [
    "# contoh if else\n",
    "z=13\n",
    "x= int(input('masukan nilai X ='))\n",
    "if (x==z):\n",
    "    print(f'nilai {x} sama dengan {z}')\n",
    "else:\n",
    "    print(f'nilai {x} tidak sama dengan {z}')\n",
    "print('Bye....Bye.....!')"
   ]
  },
  {
   "cell_type": "code",
   "execution_count": 4,
   "id": "26bfeb99",
   "metadata": {},
   "outputs": [
    {
     "name": "stdout",
     "output_type": "stream",
     "text": [
      "masukan nilai X =13\n",
      "nilai 13 sama dengan 13\n",
      "Bye....Bye.....!\n"
     ]
    }
   ],
   "source": [
    "# contoh if else\n",
    "z=13\n",
    "x= int(input('masukan nilai X ='))\n",
    "if (x==z):\n",
    "    print(f'nilai {x} sama dengan {z}')\n",
    "else:\n",
    "    print(f'nilai {x} tidak sama dengan {z}')\n",
    "print('Bye....Bye.....!')"
   ]
  },
  {
   "cell_type": "code",
   "execution_count": 5,
   "id": "186f41a9",
   "metadata": {},
   "outputs": [
    {
     "name": "stdout",
     "output_type": "stream",
     "text": [
      "\n",
      "masukkan nilai mahasiswa = 80\n",
      "Nilai Mahasiswa = 80 Kategori Grade A \n",
      "\n",
      "terima kasih\n"
     ]
    }
   ],
   "source": [
    "x = int(input(\"\\nmasukkan nilai mahasiswa = \"))\n",
    "\n",
    "if (x >= 80 and x <=100):\n",
    "    print(f\"Nilai Mahasiswa = {x} Kategori Grade A \")\n",
    "elif (x>= 70):\n",
    "    print(f\"Nilai Mahasiswa = {x} Kategori Grade B \")\n",
    "elif (x >= 50):\n",
    "    print(f\"Nilai Mahasiswa = {x} Kategori Grade C \")\n",
    "elif (x >= 35):\n",
    "    print(f\"Nilai Mahasiswa = {x} Kategori Grade D \")\n",
    "elif(x > 35 and x < 0):\n",
    "    print(f\"Nilai Mahasiswa = {x} Kategori Grade E \")\n",
    "else:\n",
    "    print(f\"Nilai anda masukan tidak sesuai \")\n",
    "print(\"\\nterima kasih\")"
   ]
  },
  {
   "cell_type": "code",
   "execution_count": 6,
   "id": "8f8b1239",
   "metadata": {},
   "outputs": [
    {
     "name": "stdout",
     "output_type": "stream",
     "text": [
      "\n",
      "masukkan nilai mahasiswa = 30\n",
      "Nilai anda masukan tidak sesuai \n",
      "\n",
      "terima kasih\n"
     ]
    }
   ],
   "source": [
    "x = int(input(\"\\nmasukkan nilai mahasiswa = \"))\n",
    "\n",
    "if (x >= 80 and x <=100):\n",
    "    print(f\"Nilai Mahasiswa = {x} Kategori Grade A \")\n",
    "elif (x>= 70):\n",
    "    print(f\"Nilai Mahasiswa = {x} Kategori Grade B \")\n",
    "elif (x >= 50):\n",
    "    print(f\"Nilai Mahasiswa = {x} Kategori Grade C \")\n",
    "elif (x >= 35):\n",
    "    print(f\"Nilai Mahasiswa = {x} Kategori Grade D \")\n",
    "elif(x > 35 and x < 0):\n",
    "    print(f\"Nilai Mahasiswa = {x} Kategori Grade E \")\n",
    "else:\n",
    "    print(f\"Nilai anda masukan tidak sesuai \")\n",
    "print(\"\\nterima kasih\")"
   ]
  },
  {
   "cell_type": "code",
   "execution_count": 7,
   "id": "c3f489f2",
   "metadata": {},
   "outputs": [
    {
     "name": "stdout",
     "output_type": "stream",
     "text": [
      "masukan angka =20\n",
      "angka 20 adalah bilangan puluhan dan juga bilangan genap\n",
      "BYE......BYE.....!\n"
     ]
    }
   ],
   "source": [
    "#contoh if bersarang\n",
    "x=int(input('masukan angka ='))\n",
    "if (x>=10):\n",
    "    if (x%2==0):\n",
    "        print(f'angka {x} adalah bilangan puluhan dan juga bilangan genap')\n",
    "    else:\n",
    "        print(f'angka {x} adalah bilangan puluhan dan juga bilangan ganjil')\n",
    "else:\n",
    "    if (x%2==0):\n",
    "        print(f'angka {x} adalah bilangan satuan dan juga bilangan genap')\n",
    "    else:\n",
    "        print(f'angka {x} adalah bilangan satuan dan juga bilangan ganjil')\n",
    "print('BYE......BYE.....!')"
   ]
  },
  {
   "cell_type": "code",
   "execution_count": 8,
   "id": "f11569e1",
   "metadata": {},
   "outputs": [
    {
     "ename": "SyntaxError",
     "evalue": "invalid syntax (4055578133.py, line 13)",
     "output_type": "error",
     "traceback": [
      "\u001b[1;36m  Cell \u001b[1;32mIn[8], line 13\u001b[1;36m\u001b[0m\n\u001b[1;33m    else:\u001b[0m\n\u001b[1;37m    ^\u001b[0m\n\u001b[1;31mSyntaxError\u001b[0m\u001b[1;31m:\u001b[0m invalid syntax\n"
     ]
    }
   ],
   "source": [
    "#contoh if bersarang\n",
    "x=int(input('masukan angka ='))\n",
    "if (x>=1000):\n",
    "    if (x%2==0):\n",
    "        print(f'angka {x} adalah bilangan puluhan dan juga bilangan genap')\n",
    "    else:\n",
    "        print(f'angka {x} adalah bilangan puluhan dan juga bilangan ganjil')\n",
    "else:\n",
    "    if (x%2==0):\n",
    "        print(f'angka {x} adalah bilangan satuan dan juga bilangan genap')\n",
    "    else:\n",
    "        print(f'angka {x} adalah bilangan satuan dan juga bilangan ganjil')\n",
    "else:\n",
    "    if (x%2==0):\n",
    "        print(f'angka {x} adalah bilangan ratusan dan juga bilangan genap')\n",
    "    else:\n",
    "        print(f'angka {x} adalah bilangan ratusan dan juga bilangan ganjil')\n",
    "print('BYE......BYE.....!')"
   ]
  },
  {
   "cell_type": "code",
   "execution_count": 9,
   "id": "7cedc133",
   "metadata": {},
   "outputs": [
    {
     "ename": "SyntaxError",
     "evalue": "invalid syntax (3215895040.py, line 13)",
     "output_type": "error",
     "traceback": [
      "\u001b[1;36m  Cell \u001b[1;32mIn[9], line 13\u001b[1;36m\u001b[0m\n\u001b[1;33m    if:\u001b[0m\n\u001b[1;37m      ^\u001b[0m\n\u001b[1;31mSyntaxError\u001b[0m\u001b[1;31m:\u001b[0m invalid syntax\n"
     ]
    }
   ],
   "source": [
    "#contoh if bersarang\n",
    "x=int(input('masukan angka ='))\n",
    "if (x>=1000):\n",
    "    if (x%2==0):\n",
    "        print(f'angka {x} adalah bilangan puluhan dan juga bilangan genap')\n",
    "    else:\n",
    "        print(f'angka {x} adalah bilangan puluhan dan juga bilangan ganjil')\n",
    "else:\n",
    "    if (x%2==0):\n",
    "        print(f'angka {x} adalah bilangan satuan dan juga bilangan genap')\n",
    "    else:\n",
    "        print(f'angka {x} adalah bilangan satuan dan juga bilangan ganjil')\n",
    "if:\n",
    "    if (x%2==0):\n",
    "        print(f'angka {x} adalah bilangan ratusan dan juga bilangan genap')\n",
    "    else:\n",
    "        print(f'angka {x} adalah bilangan ratusan dan juga bilangan ganjil')\n",
    "print('BYE......BYE.....!')"
   ]
  },
  {
   "cell_type": "code",
   "execution_count": 10,
   "id": "47990389",
   "metadata": {},
   "outputs": [
    {
     "name": "stdout",
     "output_type": "stream",
     "text": [
      "masukan angka =900\n",
      "angka 900 adalah bilangan satuan dan juga bilangan genap\n",
      "angka 900 adalah bilangan ratusan dan juga bilangan genap\n",
      "BYE......BYE.....!\n"
     ]
    }
   ],
   "source": [
    "#contoh if bersarang\n",
    "x=int(input('masukan angka ='))\n",
    "if (x>=1000):\n",
    "    if (x%2==0):\n",
    "        print(f'angka {x} adalah bilangan puluhan dan juga bilangan genap')\n",
    "    else:\n",
    "        print(f'angka {x} adalah bilangan puluhan dan juga bilangan ganjil')\n",
    "else:\n",
    "    if (x%2==0):\n",
    "        print(f'angka {x} adalah bilangan satuan dan juga bilangan genap')\n",
    "    else:\n",
    "        print(f'angka {x} adalah bilangan satuan dan juga bilangan ganjil')\n",
    "    if (x%2==0):\n",
    "        print(f'angka {x} adalah bilangan ratusan dan juga bilangan genap')\n",
    "    else:\n",
    "        print(f'angka {x} adalah bilangan ratusan dan juga bilangan ganjil')\n",
    "print('BYE......BYE.....!')"
   ]
  },
  {
   "cell_type": "code",
   "execution_count": 11,
   "id": "64c3a6b2",
   "metadata": {},
   "outputs": [
    {
     "name": "stdout",
     "output_type": "stream",
     "text": [
      "1 lebih kecil dari sama dengan 10\n",
      "2 lebih kecil dari sama dengan 10\n",
      "3 lebih kecil dari sama dengan 10\n",
      "4 lebih kecil dari sama dengan 10\n",
      "5 lebih kecil dari sama dengan 10\n",
      "6 lebih kecil dari sama dengan 10\n",
      "7 lebih kecil dari sama dengan 10\n",
      "8 lebih kecil dari sama dengan 10\n",
      "9 lebih kecil dari sama dengan 10\n",
      "10 lebih kecil dari sama dengan 10\n",
      "pengulangan terjadi sebanyak 10 kali\n"
     ]
    }
   ],
   "source": [
    "# Contoh perulangan WHile\n",
    "a=10\n",
    "i=1\n",
    "n_awal=0\n",
    "while(i<=a):\n",
    "    print(f\"{i} lebih kecil dari sama dengan {a}\")\n",
    "    n_while=n_awal+i\n",
    "    i=i+1\n",
    "else:print(f\"pengulangan terjadi sebanyak {n_while} kali\") "
   ]
  },
  {
   "cell_type": "code",
   "execution_count": 12,
   "id": "01641128",
   "metadata": {},
   "outputs": [
    {
     "name": "stdout",
     "output_type": "stream",
     "text": [
      "\n",
      "masukan nilai sisi =20\n",
      "\n",
      "\n",
      "  11111111111111111111\n",
      "   2222222222222222222\n",
      "    333333333333333333\n",
      "     44444444444444444\n",
      "      5555555555555555\n",
      "       666666666666666\n",
      "        77777777777777\n",
      "         8888888888888\n",
      "          999999999999\n",
      "           1010101010101010101010\n",
      "            11111111111111111111\n",
      "             121212121212121212\n",
      "              1313131313131313\n",
      "               14141414141414\n",
      "                151515151515\n",
      "                 1616161616\n",
      "                  17171717\n",
      "                   181818\n",
      "                    1919\n",
      "                     20\n",
      "\n",
      "keluar dari looping\n"
     ]
    }
   ],
   "source": [
    "# Contoh perulangan WHile\n",
    "sisi=int(input(\"\\nmasukan nilai sisi =\"))\n",
    "print('\\n')\n",
    "x=sisi\n",
    "jumlah=1\n",
    "while (jumlah <= sisi):\n",
    "        print(\" \" * jumlah,str(jumlah)*x)\n",
    "        x -=1\n",
    "        jumlah +=1\n",
    "print(\"\\nkeluar dari looping\")"
   ]
  },
  {
   "cell_type": "code",
   "execution_count": 13,
   "id": "a292465d",
   "metadata": {},
   "outputs": [
    {
     "name": "stdout",
     "output_type": "stream",
     "text": [
      "\n",
      "Nama-Nama Malaikat\n",
      "Jibril\n",
      "Mikail\n",
      "Izroil\n",
      "Isrofil\n",
      "Munkar\n",
      "Nakir\n",
      "Rokib\n",
      "Atid\n",
      "Malik\n",
      "Ridwan\n"
     ]
    }
   ],
   "source": [
    "# contoh perulangan For\n",
    "print(\"\\nNama-Nama Malaikat\")\n",
    "list1=[\"Jibril\",\"Mikail\",\"Izroil\",\"Isrofil\",\"Munkar\",\n",
    "   \"Nakir\",\"Rokib\",\"Atid\",\"Malik\",\"Ridwan\"]\n",
    "for i in list1:\n",
    "    print(i)"
   ]
  },
  {
   "cell_type": "code",
   "execution_count": 14,
   "id": "d1891802",
   "metadata": {},
   "outputs": [
    {
     "name": "stdout",
     "output_type": "stream",
     "text": [
      "<class 'tuple'>\n",
      "1\n",
      "22\n",
      "333\n",
      "4444\n",
      "55555\n",
      "BYE......BYE\n"
     ]
    }
   ],
   "source": [
    "# contoh perulangan For\n",
    "tuple1=(1,2,3,4,5)\n",
    "print(type(tuple1))\n",
    "count = 1\n",
    "for i in tuple1:\n",
    "    print (str(i) * i)\n",
    "print('BYE......BYE')"
   ]
  },
  {
   "cell_type": "code",
   "execution_count": 15,
   "id": "a12d7431",
   "metadata": {},
   "outputs": [
    {
     "name": "stdout",
     "output_type": "stream",
     "text": [
      "\n",
      " MENCETAK NILAI DIATAS 60\n",
      "dimas 70 B\n",
      "lala 90 A\n"
     ]
    }
   ],
   "source": [
    "# contoh perulangan For\n",
    "nama=('andi','kaka','nana','dimas','lala')\n",
    "nilai=(40,60,60,70,90)\n",
    "grade=('D','C','C','B','A')\n",
    "print('\\n MENCETAK NILAI DIATAS 60')\n",
    "for Nama,Nilai,Grade in zip(nama,nilai,grade):\n",
    "    if Nilai >60:\n",
    "        print (Nama,Nilai,Grade)"
   ]
  },
  {
   "cell_type": "code",
   "execution_count": 16,
   "id": "2a50870b",
   "metadata": {},
   "outputs": [
    {
     "name": "stdout",
     "output_type": "stream",
     "text": [
      "5\n",
      "10\n",
      "15\n",
      "20\n",
      "keluar dari looping\n"
     ]
    }
   ],
   "source": [
    "kelipatan=5\n",
    "for i in range(4):\n",
    "    print(kelipatan*(i+1))\n",
    "else:\n",
    "    print('keluar dari looping')"
   ]
  },
  {
   "cell_type": "code",
   "execution_count": 17,
   "id": "e68128a6",
   "metadata": {},
   "outputs": [
    {
     "name": "stdout",
     "output_type": "stream",
     "text": [
      "################## PARAMETER STAR ##################\n",
      "perulangan ke 0\n",
      "perulangan ke 1\n",
      "perulangan ke 2\n",
      "perulangan ke 3\n",
      "perulangan ke 4\n",
      "perulangan ke 5\n"
     ]
    }
   ],
   "source": [
    "print(18*\"#\"+\" PARAMETER STAR \"+18*\"#\")\n",
    "for i in range(6):\n",
    "     print(f\"perulangan ke {i}\")"
   ]
  },
  {
   "cell_type": "code",
   "execution_count": 18,
   "id": "b6a10518",
   "metadata": {},
   "outputs": [
    {
     "name": "stdout",
     "output_type": "stream",
     "text": [
      "################## PARAMETER STOP ##################\n",
      "perulangan ke 1\n",
      "perulangan ke 2\n",
      "perulangan ke 3\n"
     ]
    }
   ],
   "source": [
    "print(18*\"#\"+\" PARAMETER STOP \"+18*\"#\")\n",
    "for i in range(1, 4):\n",
    "     print(f\"perulangan ke {i}\")"
   ]
  },
  {
   "cell_type": "code",
   "execution_count": 19,
   "id": "386ea62c",
   "metadata": {},
   "outputs": [
    {
     "name": "stdout",
     "output_type": "stream",
     "text": [
      "################## PARAMETER STEP ##################\n",
      "perulangan ke 1\n",
      "perulangan ke 5\n",
      "perulangan ke 9\n"
     ]
    }
   ],
   "source": [
    "print(18*\"#\"+\" PARAMETER STEP \"+18*\"#\")\n",
    "for i in range(1, 10, 4):\n",
    "     print(f\"perulangan ke {i}\")"
   ]
  },
  {
   "cell_type": "code",
   "execution_count": 20,
   "id": "b280a974",
   "metadata": {},
   "outputs": [
    {
     "name": "stdout",
     "output_type": "stream",
     "text": [
      "\n",
      "Nama-Nama Malaikat\n",
      "Jibril\n",
      "Izroil\n",
      "Munkar\n",
      "Rokib\n",
      "Malik\n",
      "selesai (^__^) \n"
     ]
    }
   ],
   "source": [
    "# contoh perulangan For dengan fungsi Range pada List\n",
    "print(\"\\nNama-Nama Malaikat\")\n",
    "list1=[\"Jibril\",\"Mikail\",\"Izroil\",\"Isrofil\",\"Munkar\",\n",
    "   \"Nakir\",\"Rokib\",\"Atid\",\"Malik\",\"Ridwan\"]\n",
    "for i in list1[0:10:2]:\n",
    "    print(i)\n",
    "print('selesai (^__^) ')"
   ]
  },
  {
   "cell_type": "code",
   "execution_count": 21,
   "id": "54b84f44",
   "metadata": {},
   "outputs": [
    {
     "name": "stdout",
     "output_type": "stream",
     "text": [
      "1\n",
      "22\n",
      "333\n",
      "4444\n",
      "55555\n",
      "666666\n",
      "7777777\n",
      "88888888\n",
      "999999999\n"
     ]
    }
   ],
   "source": [
    "# contoh perulangan For dengan fungsi Range pada tuple\n",
    "for i in range(1,10):\n",
    "    print (str(i) * (i))"
   ]
  },
  {
   "cell_type": "code",
   "execution_count": 22,
   "id": "9473e50f",
   "metadata": {},
   "outputs": [
    {
     "name": "stdout",
     "output_type": "stream",
     "text": [
      "Masukkan nilai a:20\n",
      "1 lebih kecil dari atau sama dengan 20\n",
      "belajar looping dengan while\n",
      "2 lebih kecil dari atau sama dengan 20\n",
      "belajar looping dengan while\n",
      "3 lebih kecil dari atau sama dengan 20\n",
      "pengulangan terjadi sebanyak 3 kali\n"
     ]
    }
   ],
   "source": [
    "# contoh perulangan (while) dengan fungsi break\n",
    "a=int(input(\"Masukkan nilai a:\"))\n",
    "\n",
    "i=1\n",
    "n_awal=0\n",
    "while(i<=a):\n",
    "    print(f\"{i} lebih kecil dari atau sama dengan {a}\")\n",
    "    n_while=n_awal+i\n",
    "    i=i+1\n",
    "    if i==4:\n",
    "        break\n",
    "    print(\"belajar looping dengan while\")\n",
    "print(f\"pengulangan terjadi sebanyak {n_while} kali\") "
   ]
  },
  {
   "cell_type": "code",
   "execution_count": 23,
   "id": "83b70245",
   "metadata": {},
   "outputs": [
    {
     "name": "stdout",
     "output_type": "stream",
     "text": [
      "karakter saat ini : P\n",
      "karakter saat ini : y\n",
      "karakter saat ini : t\n",
      "keluar darinlooping dengan fungsi BREAK\n"
     ]
    }
   ],
   "source": [
    "# contoh perulangan (for) dengan fungsi break\n",
    "for perulangan in 'Python': \n",
    "    if perulangan == 'h':\n",
    "        break\n",
    "    print ('karakter saat ini :', perulangan)\n",
    "print('keluar darinlooping dengan fungsi BREAK')"
   ]
  },
  {
   "cell_type": "code",
   "execution_count": 24,
   "id": "11b11621",
   "metadata": {},
   "outputs": [
    {
     "name": "stdout",
     "output_type": "stream",
     "text": [
      "\n",
      "masukan nilai sisi =20\n",
      "\n",
      "\n",
      "           #\n",
      "          ###\n",
      "         #####\n",
      "        #######\n",
      "       #########\n",
      "      ###########\n",
      "     #############\n",
      "    ###############\n",
      "   #################\n",
      "  ###################\n",
      " #####################\n",
      "\n",
      "keluar dari looping\n"
     ]
    }
   ],
   "source": [
    "# Contoh perulangan WHile\n",
    "sisi=int(input(\"\\nmasukan nilai sisi =\"))\n",
    "print('\\n')\n",
    "jumlah=1\n",
    "spasi=(sisi/2)\n",
    "space=int(spasi)\n",
    "while True:\n",
    "    if(jumlah%2):\n",
    "        print(\" \" * space,\"#\"*jumlah)\n",
    "        space -= 1\n",
    "        jumlah +=1\n",
    "    else:\n",
    "        jumlah +=1\n",
    "        continue\n",
    "    if jumlah > sisi:\n",
    "        break\n",
    "print(\"\\nkeluar dari looping\")"
   ]
  },
  {
   "cell_type": "code",
   "execution_count": 25,
   "id": "0e08df40",
   "metadata": {},
   "outputs": [
    {
     "name": "stdout",
     "output_type": "stream",
     "text": [
      "karakter saat ini : P\n",
      "karakter saat ini : y\n",
      "karakter saat ini : t\n",
      "karakter saat ini : o\n",
      "karakter saat ini : n\n",
      "keluar dari looping\n"
     ]
    }
   ],
   "source": [
    "# contoh perulangan (for) dengan fungsi continue\n",
    "for perulangan in 'Python': \n",
    "    if perulangan == 'h':\n",
    "        continue\n",
    "    print ('karakter saat ini :', perulangan)\n",
    "print('keluar dari looping')"
   ]
  },
  {
   "cell_type": "code",
   "execution_count": 26,
   "id": "365ba3fa",
   "metadata": {},
   "outputs": [
    {
     "name": "stdout",
     "output_type": "stream",
     "text": [
      "1\n",
      "3\n",
      "5\n",
      "7\n",
      "9\n",
      "keluar dari looping\n"
     ]
    }
   ],
   "source": [
    "# contoh perulangan (for) dengan fungsi pass\n",
    "for i in range(10): \n",
    "    if i%2==0:\n",
    "        pass \n",
    "    else:\n",
    "        print (i)\n",
    "print('keluar dari looping')"
   ]
  },
  {
   "cell_type": "code",
   "execution_count": 27,
   "id": "915020df",
   "metadata": {},
   "outputs": [
    {
     "name": "stdout",
     "output_type": "stream",
     "text": [
      "1\n",
      "3\n",
      "5\n",
      "7\n",
      "9\n",
      "keluar dari looping\n"
     ]
    }
   ],
   "source": [
    "# contoh perulangan (for) dengan fungsi pass\n",
    "for i in range(10): \n",
    "    if i%2!=0:\n",
    "        print (i)\n"
   ]
  },
  {
   "cell_type": "code",
   "execution_count": 33,
   "id": "8fcf6641",
   "metadata": {},
   "outputs": [
    {
     "name": "stdout",
     "output_type": "stream",
     "text": [
      "1 \n",
      "1 2 \n",
      "1 2 3 \n",
      "1 2 3 4 \n",
      "1 2 3 4 5 \n"
     ]
    }
   ],
   "source": [
    "depth = 6\n",
    "for number in range(1, depth):\n",
    "    for i in range(1, number + 1):\n",
    "        print(i, end=' ')\n",
    "    print(\"\")"
   ]
  },
  {
   "cell_type": "code",
   "execution_count": 43,
   "id": "593bd0e5",
   "metadata": {},
   "outputs": [
    {
     "name": "stdout",
     "output_type": "stream",
     "text": [
      "1\n",
      "120\n",
      "12301\n",
      "1234012\n",
      "123450123\n"
     ]
    }
   ],
   "source": [
    "depth = 6\n",
    "for number in range(1, depth):\n",
    "    for i in range(1, number +1):\n",
    "        print(i, end='')\n",
    "    for j in range(i =1):\n",
    "        print(j, end='')\n",
    "    print(\"\")"
   ]
  },
  {
   "cell_type": "code",
   "execution_count": 44,
   "id": "5117b314",
   "metadata": {},
   "outputs": [
    {
     "name": "stdout",
     "output_type": "stream",
     "text": [
      "7\n",
      "28\n",
      "[1, 2, 3, 4, 5, 6, 7, 9]\n",
      "HURUF BESAR\n",
      "huruf besar\n"
     ]
    }
   ],
   "source": [
    "angka=[1,2,3,4,5,6,7]\n",
    "print(len(angka))\n",
    "print(sum(angka))\n",
    "angka.append(9)\n",
    "print(angka)\n",
    "kapital=\"huruf besar\"\n",
    "print(kapital.upper())\n",
    "print(kapital.lower())"
   ]
  },
  {
   "cell_type": "code",
   "execution_count": 45,
   "id": "061360c3",
   "metadata": {},
   "outputs": [],
   "source": [
    "# contoh fungsi void\n",
    "def hello():\n",
    "    print (f\"selamat belajar python \")"
   ]
  },
  {
   "cell_type": "code",
   "execution_count": 46,
   "id": "d72c6805",
   "metadata": {},
   "outputs": [
    {
     "name": "stdout",
     "output_type": "stream",
     "text": [
      "selamat belajar python \n"
     ]
    }
   ],
   "source": [
    "hello()"
   ]
  },
  {
   "cell_type": "code",
   "execution_count": 47,
   "id": "fdcc37a5",
   "metadata": {},
   "outputs": [],
   "source": [
    "# contoh fungsi fruitful 1\n",
    "def hello(nama):\n",
    "    cetak= \"selamat belajar python \"+ (nama)\n",
    "    return cetak"
   ]
  },
  {
   "cell_type": "code",
   "execution_count": 48,
   "id": "076739b8",
   "metadata": {},
   "outputs": [],
   "source": [
    "jawab= hello(\"jajang\")"
   ]
  },
  {
   "cell_type": "code",
   "execution_count": 49,
   "id": "3fbe2547",
   "metadata": {},
   "outputs": [
    {
     "data": {
      "text/plain": [
       "'selamat belajar python jajang'"
      ]
     },
     "execution_count": 49,
     "metadata": {},
     "output_type": "execute_result"
    }
   ],
   "source": [
    "jawab"
   ]
  },
  {
   "cell_type": "code",
   "execution_count": 50,
   "id": "871d4526",
   "metadata": {},
   "outputs": [],
   "source": [
    "def penjumlahan(a,b):\n",
    "    total=a+b\n",
    "    print (f'hasil penjumlahan dari {a} + {b} = {total}')"
   ]
  },
  {
   "cell_type": "code",
   "execution_count": 51,
   "id": "2744ec70",
   "metadata": {},
   "outputs": [
    {
     "name": "stdout",
     "output_type": "stream",
     "text": [
      "hasil penjumlahan dari 1 + 6 = 7\n"
     ]
    }
   ],
   "source": [
    "penjumlahan(1,6)"
   ]
  },
  {
   "cell_type": "code",
   "execution_count": 52,
   "id": "92c4e457",
   "metadata": {},
   "outputs": [],
   "source": [
    "# fungsi dengan argument default 1\n",
    "def hello1(nama, pesan=\" tetap semangat..!\"):\n",
    "    cetak= \"selamat belajar python \"+ (nama) + (pesan)\n",
    "    return cetak"
   ]
  },
  {
   "cell_type": "code",
   "execution_count": 53,
   "id": "73fb24a4",
   "metadata": {},
   "outputs": [
    {
     "data": {
      "text/plain": [
       "'selamat belajar python radit tetap semangat..!'"
      ]
     },
     "execution_count": 53,
     "metadata": {},
     "output_type": "execute_result"
    }
   ],
   "source": [
    "hello1('radit')"
   ]
  },
  {
   "cell_type": "code",
   "execution_count": 54,
   "id": "03f4eda1",
   "metadata": {},
   "outputs": [],
   "source": [
    "# fungsi dengan argument default 2\n",
    "def penjumlahan1(a,b=5):\n",
    "    total=a+b\n",
    "    print (f'hasil penjumlahan dari {a} + {b} = {total}')"
   ]
  },
  {
   "cell_type": "code",
   "execution_count": 55,
   "id": "f5ef6bd7",
   "metadata": {},
   "outputs": [
    {
     "name": "stdout",
     "output_type": "stream",
     "text": [
      "hasil penjumlahan dari 2 + 5 = 7\n"
     ]
    }
   ],
   "source": [
    "penjumlahan1(2)"
   ]
  },
  {
   "cell_type": "code",
   "execution_count": 56,
   "id": "f9f5cabe",
   "metadata": {},
   "outputs": [],
   "source": [
    "# contoh fungsi global 1\n",
    "def kali(x,y):\n",
    "    x1=x*y\n",
    "    return x1"
   ]
  },
  {
   "cell_type": "code",
   "execution_count": 57,
   "id": "72c42552",
   "metadata": {},
   "outputs": [],
   "source": [
    "c=kali(2,5)"
   ]
  },
  {
   "cell_type": "code",
   "execution_count": 58,
   "id": "18dd5f53",
   "metadata": {},
   "outputs": [
    {
     "data": {
      "text/plain": [
       "10"
      ]
     },
     "execution_count": 58,
     "metadata": {},
     "output_type": "execute_result"
    }
   ],
   "source": [
    "c"
   ]
  },
  {
   "cell_type": "code",
   "execution_count": 59,
   "id": "799e618b",
   "metadata": {},
   "outputs": [],
   "source": [
    "# contoh fungsi global\n",
    "def segitiga():\n",
    "    jumlah=1\n",
    "    spasi=(sisi/2)\n",
    "    space=int(spasi)\n",
    "    while True:\n",
    "        if(jumlah%2):\n",
    "            print(\" \" * space,\"#\"*jumlah)\n",
    "            space -= 1\n",
    "            jumlah +=1\n",
    "        else:\n",
    "            jumlah +=1\n",
    "            continue\n",
    "        if jumlah > sisi:\n",
    "            break"
   ]
  },
  {
   "cell_type": "code",
   "execution_count": 60,
   "id": "42b9c78b",
   "metadata": {},
   "outputs": [
    {
     "name": "stdout",
     "output_type": "stream",
     "text": [
      "\n",
      "masukan nilai sisi =40\n",
      "                     #\n",
      "                    ###\n",
      "                   #####\n",
      "                  #######\n",
      "                 #########\n",
      "                ###########\n",
      "               #############\n",
      "              ###############\n",
      "             #################\n",
      "            ###################\n",
      "           #####################\n",
      "          #######################\n",
      "         #########################\n",
      "        ###########################\n",
      "       #############################\n",
      "      ###############################\n",
      "     #################################\n",
      "    ###################################\n",
      "   #####################################\n",
      "  #######################################\n",
      " #########################################\n"
     ]
    }
   ],
   "source": [
    "# variabel sisi merupakan sebuah variabel global\n",
    "sisi=int(input(\"\\nmasukan nilai sisi =\"))\n",
    "segitiga()"
   ]
  },
  {
   "cell_type": "code",
   "execution_count": 65,
   "id": "81711482",
   "metadata": {},
   "outputs": [],
   "source": [
    "def hitung(a):\n",
    "    kali =a*5\n",
    "    tambah=a+5\n",
    "    bagi=tambah/2\n",
    "    return kali,tambah,bagi"
   ]
  },
  {
   "cell_type": "code",
   "execution_count": 66,
   "id": "acb7b6a3",
   "metadata": {},
   "outputs": [
    {
     "name": "stdout",
     "output_type": "stream",
     "text": [
      "<function kali at 0x000001BF151DC040>\n"
     ]
    }
   ],
   "source": [
    "hitung(10)\n",
    "print(kali)"
   ]
  },
  {
   "cell_type": "code",
   "execution_count": 67,
   "id": "cb9a768b",
   "metadata": {},
   "outputs": [
    {
     "data": {
      "text/plain": [
       "(50, 15, 7.5)"
      ]
     },
     "execution_count": 67,
     "metadata": {},
     "output_type": "execute_result"
    }
   ],
   "source": [
    "hitung(10)"
   ]
  },
  {
   "cell_type": "code",
   "execution_count": 68,
   "id": "0b20dba1",
   "metadata": {},
   "outputs": [],
   "source": [
    "# contoh fungsi lambda 1\n",
    "nilaiMaks=lambda a,b: a if a>b else b"
   ]
  },
  {
   "cell_type": "code",
   "execution_count": 69,
   "id": "e4f164c5",
   "metadata": {},
   "outputs": [
    {
     "data": {
      "text/plain": [
       "35"
      ]
     },
     "execution_count": 69,
     "metadata": {},
     "output_type": "execute_result"
    }
   ],
   "source": [
    "nilaiMaks(35,20)"
   ]
  },
  {
   "cell_type": "code",
   "execution_count": 70,
   "id": "b860072b",
   "metadata": {},
   "outputs": [],
   "source": [
    "# bandingkan dengan fungsi ini\n",
    "def n_Maks(a,b):\n",
    "    if a>b:\n",
    "        return a\n",
    "    else:\n",
    "        return b"
   ]
  },
  {
   "cell_type": "code",
   "execution_count": 71,
   "id": "871bffff",
   "metadata": {},
   "outputs": [
    {
     "data": {
      "text/plain": [
       "35"
      ]
     },
     "execution_count": 71,
     "metadata": {},
     "output_type": "execute_result"
    }
   ],
   "source": [
    "n_Maks(35,20)"
   ]
  },
  {
   "cell_type": "code",
   "execution_count": 72,
   "id": "f7380cb1",
   "metadata": {},
   "outputs": [
    {
     "data": {
      "text/html": [
       "<div>\n",
       "<style scoped>\n",
       "    .dataframe tbody tr th:only-of-type {\n",
       "        vertical-align: middle;\n",
       "    }\n",
       "\n",
       "    .dataframe tbody tr th {\n",
       "        vertical-align: top;\n",
       "    }\n",
       "\n",
       "    .dataframe thead th {\n",
       "        text-align: right;\n",
       "    }\n",
       "</style>\n",
       "<table border=\"1\" class=\"dataframe\">\n",
       "  <thead>\n",
       "    <tr style=\"text-align: right;\">\n",
       "      <th></th>\n",
       "      <th>Nama</th>\n",
       "      <th>Nilai</th>\n",
       "    </tr>\n",
       "  </thead>\n",
       "  <tbody>\n",
       "    <tr>\n",
       "      <th>0</th>\n",
       "      <td>andi</td>\n",
       "      <td>40</td>\n",
       "    </tr>\n",
       "    <tr>\n",
       "      <th>1</th>\n",
       "      <td>kaka</td>\n",
       "      <td>60</td>\n",
       "    </tr>\n",
       "    <tr>\n",
       "      <th>2</th>\n",
       "      <td>nana</td>\n",
       "      <td>60</td>\n",
       "    </tr>\n",
       "    <tr>\n",
       "      <th>3</th>\n",
       "      <td>dimas</td>\n",
       "      <td>70</td>\n",
       "    </tr>\n",
       "    <tr>\n",
       "      <th>4</th>\n",
       "      <td>lala</td>\n",
       "      <td>90</td>\n",
       "    </tr>\n",
       "  </tbody>\n",
       "</table>\n",
       "</div>"
      ],
      "text/plain": [
       "    Nama  Nilai\n",
       "0   andi     40\n",
       "1   kaka     60\n",
       "2   nana     60\n",
       "3  dimas     70\n",
       "4   lala     90"
      ]
     },
     "execution_count": 72,
     "metadata": {},
     "output_type": "execute_result"
    }
   ],
   "source": [
    "import pandas as pd\n",
    "df=pd.DataFrame({\n",
    "    'Nama':('andi','kaka','nana','dimas','lala'),\n",
    "    'Nilai':(40,60,60,70,90)\n",
    "})\n",
    "df"
   ]
  },
  {
   "cell_type": "code",
   "execution_count": null,
   "id": "787c0956",
   "metadata": {},
   "outputs": [],
   "source": []
  }
 ],
 "metadata": {
  "kernelspec": {
   "display_name": "Python 3 (ipykernel)",
   "language": "python",
   "name": "python3"
  },
  "language_info": {
   "codemirror_mode": {
    "name": "ipython",
    "version": 3
   },
   "file_extension": ".py",
   "mimetype": "text/x-python",
   "name": "python",
   "nbconvert_exporter": "python",
   "pygments_lexer": "ipython3",
   "version": "3.11.5"
  }
 },
 "nbformat": 4,
 "nbformat_minor": 5
}
