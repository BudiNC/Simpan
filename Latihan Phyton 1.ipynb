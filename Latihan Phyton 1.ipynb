{
 "cells": [
  {
   "cell_type": "code",
   "execution_count": 1,
   "id": "c44dcacd",
   "metadata": {},
   "outputs": [
    {
     "data": {
      "text/plain": [
       "array([[ 1,  4,  6],\n",
       "       [ 2,  5,  2],\n",
       "       [ 6, -4, -7]])"
      ]
     },
     "execution_count": 1,
     "metadata": {},
     "output_type": "execute_result"
    }
   ],
   "source": [
    "import numpy as np\n",
    "# Membuat matrik 3x3\n",
    "matrix=np.array([[1,4,6],[2,5,2],[6,-4,-7]])\n",
    "matrix"
   ]
  },
  {
   "cell_type": "code",
   "execution_count": 2,
   "id": "74ef9a4f",
   "metadata": {},
   "outputs": [
    {
     "data": {
      "text/plain": [
       "array([[ 0.17880795, -0.02649007,  0.14569536],\n",
       "       [-0.17218543,  0.28476821, -0.06622517],\n",
       "       [ 0.25165563, -0.18543046,  0.01986755]])"
      ]
     },
     "execution_count": 2,
     "metadata": {},
     "output_type": "execute_result"
    }
   ],
   "source": [
    "# mencari nilai inverse matrik tersebut\n",
    "np.linalg.inv(matrix)"
   ]
  },
  {
   "cell_type": "code",
   "execution_count": 1,
   "id": "62818f61",
   "metadata": {
    "scrolled": true
   },
   "outputs": [],
   "source": [
    "import lightgbm as lgb"
   ]
  },
  {
   "cell_type": "code",
   "execution_count": 4,
   "id": "c218ba3d",
   "metadata": {},
   "outputs": [
    {
     "name": "stdout",
     "output_type": "stream",
     "text": [
      "========Tipe Data Numerik========\n",
      "contoh tipe data bilangan bulat = 12 <class 'int'>\n",
      "contoh tipe data bilangan bulat = False <class 'bool'>\n",
      "contoh tipe data bilangan pecahan = 12.5 <class 'float'>\n",
      "contoh tipe data bilangan complex = (12+14j) <class 'complex'>\n"
     ]
    }
   ],
   "source": [
    "# 1. Bilangan Bulat (integer)\n",
    "a=12\n",
    "# 2. Boolean\n",
    "b= False\n",
    "c= True\n",
    "# 3. Bilangan Pecahan (Real/float)\n",
    "d=12.5\n",
    "# 4. Bilangan kompleks\n",
    "x=complex(5,6)\n",
    "y=complex(7,8)\n",
    "e=x+y\n",
    "print(8*'='+'Tipe Data Numerik'+8*'=')\n",
    "print('contoh tipe data bilangan bulat =', a, type(a))\n",
    "print('contoh tipe data bilangan bulat =', b, type(b))\n",
    "print('contoh tipe data bilangan pecahan =', d, type(d))\n",
    "print('contoh tipe data bilangan complex =', e, type(e))"
   ]
  },
  {
   "cell_type": "code",
   "execution_count": 5,
   "id": "23c56ad4",
   "metadata": {},
   "outputs": [
    {
     "data": {
      "text/html": [
       "<div>\n",
       "<style scoped>\n",
       "    .dataframe tbody tr th:only-of-type {\n",
       "        vertical-align: middle;\n",
       "    }\n",
       "\n",
       "    .dataframe tbody tr th {\n",
       "        vertical-align: top;\n",
       "    }\n",
       "\n",
       "    .dataframe thead th {\n",
       "        text-align: right;\n",
       "    }\n",
       "</style>\n",
       "<table border=\"1\" class=\"dataframe\">\n",
       "  <thead>\n",
       "    <tr style=\"text-align: right;\">\n",
       "      <th></th>\n",
       "      <th>tanggal_mulai</th>\n",
       "      <th>tanggal_selesai</th>\n",
       "      <th>kode_pekerjaan</th>\n",
       "      <th>jenis_kelas</th>\n",
       "      <th>durasi</th>\n",
       "    </tr>\n",
       "  </thead>\n",
       "  <tbody>\n",
       "    <tr>\n",
       "      <th>0</th>\n",
       "      <td>2021-01-01</td>\n",
       "      <td>2022-02-02</td>\n",
       "      <td>1</td>\n",
       "      <td>class-1</td>\n",
       "      <td>397 days</td>\n",
       "    </tr>\n",
       "    <tr>\n",
       "      <th>1</th>\n",
       "      <td>2021-01-02</td>\n",
       "      <td>2021-02-02</td>\n",
       "      <td>2</td>\n",
       "      <td>class-2</td>\n",
       "      <td>31 days</td>\n",
       "    </tr>\n",
       "    <tr>\n",
       "      <th>2</th>\n",
       "      <td>2021-01-03</td>\n",
       "      <td>2021-03-03</td>\n",
       "      <td>tiga</td>\n",
       "      <td>class-1</td>\n",
       "      <td>59 days</td>\n",
       "    </tr>\n",
       "  </tbody>\n",
       "</table>\n",
       "</div>"
      ],
      "text/plain": [
       "  tanggal_mulai tanggal_selesai kode_pekerjaan jenis_kelas   durasi\n",
       "0    2021-01-01      2022-02-02              1     class-1 397 days\n",
       "1    2021-01-02      2021-02-02              2     class-2  31 days\n",
       "2    2021-01-03      2021-03-03           tiga     class-1  59 days"
      ]
     },
     "execution_count": 5,
     "metadata": {},
     "output_type": "execute_result"
    }
   ],
   "source": [
    "import pandas as pd\n",
    "\n",
    "df = pd.DataFrame({\n",
    "    'tanggal_mulai':['2021-01-01', '2021-01-02', '2021-01-03'],\n",
    "    'tanggal_selesai':['2022-02-02', '2021-02-02', '2021-03-03'],\n",
    "    'kode_pekerjaan':[1,2,'tiga'],\n",
    "    'jenis_kelas':['class-1', 'class-2', 'class-1']\n",
    "})\n",
    "\n",
    "df['tanggal_mulai'] = pd.to_datetime(df['tanggal_mulai'])\n",
    "df['tanggal_selesai'] = pd.to_datetime(df['tanggal_selesai'])\n",
    "df['durasi'] = df['tanggal_selesai'] - df['tanggal_mulai']\n",
    "df['jenis_kelas'] = df['jenis_kelas'].astype('category')\n",
    "df"
   ]
  },
  {
   "cell_type": "code",
   "execution_count": 6,
   "id": "944eecc6",
   "metadata": {},
   "outputs": [
    {
     "data": {
      "text/plain": [
       "tanggal_mulai       datetime64[ns]\n",
       "tanggal_selesai     datetime64[ns]\n",
       "kode_pekerjaan              object\n",
       "jenis_kelas               category\n",
       "durasi             timedelta64[ns]\n",
       "dtype: object"
      ]
     },
     "execution_count": 6,
     "metadata": {},
     "output_type": "execute_result"
    }
   ],
   "source": [
    "df.dtypes"
   ]
  },
  {
   "cell_type": "code",
   "execution_count": 7,
   "id": "2374020b",
   "metadata": {},
   "outputs": [
    {
     "name": "stdout",
     "output_type": "stream",
     "text": [
      "###############################################\n",
      "----------------Manipulasi String--------------\n",
      "---------------Created: Dzaya 2022-------------\n",
      "\n",
      "########## Menggabungkan String ###########\n",
      "\n",
      "Masukan Nama Depan :Budi\n",
      "Masukan Nama Tengah :Nur\n",
      "Masukan Nama Belakang :Cahyono\n",
      "nama lengkap anda = Budi Nur Cahyono\n"
     ]
    }
   ],
   "source": [
    "# 1. string\n",
    "# Membuat data string\n",
    "print(\"###############################################\")\n",
    "print(\"----------------Manipulasi String--------------\")\n",
    "print(\"---------------Created: Dzaya 2022-------------\")\n",
    "print(\"\\n########## Menggabungkan String ###########\\n\")\n",
    "#menggabungkan String (Concate)\n",
    "F_name=input('Masukan Nama Depan :')\n",
    "M_name=input('Masukan Nama Tengah :')\n",
    "L_name=input('Masukan Nama Belakang :')\n",
    "spasi=(' ')\n",
    "full_name=F_name+spasi+M_name+spasi+L_name\n",
    "print('nama lengkap anda =',full_name)"
   ]
  },
  {
   "cell_type": "code",
   "execution_count": 2,
   "id": "f8665275",
   "metadata": {},
   "outputs": [
    {
     "name": "stdout",
     "output_type": "stream",
     "text": [
      "\n",
      "########## Melihat Panjang String #########\n",
      "\n"
     ]
    },
    {
     "ename": "NameError",
     "evalue": "name 'full_name' is not defined",
     "output_type": "error",
     "traceback": [
      "\u001b[1;31m---------------------------------------------------------------------------\u001b[0m",
      "\u001b[1;31mNameError\u001b[0m                                 Traceback (most recent call last)",
      "Cell \u001b[1;32mIn[2], line 2\u001b[0m\n\u001b[0;32m      1\u001b[0m \u001b[38;5;28mprint\u001b[39m(\u001b[38;5;124m\"\u001b[39m\u001b[38;5;130;01m\\n\u001b[39;00m\u001b[38;5;124m########## Melihat Panjang String #########\u001b[39m\u001b[38;5;130;01m\\n\u001b[39;00m\u001b[38;5;124m\"\u001b[39m)\n\u001b[1;32m----> 2\u001b[0m panjang\u001b[38;5;241m=\u001b[39m\u001b[38;5;28mlen\u001b[39m(full_name)\n\u001b[0;32m      3\u001b[0m kar\u001b[38;5;241m=\u001b[39mF_name\u001b[38;5;241m+\u001b[39mM_name\u001b[38;5;241m+\u001b[39mL_name\n\u001b[0;32m      4\u001b[0m J_kar\u001b[38;5;241m=\u001b[39m\u001b[38;5;28mlen\u001b[39m(kar)\n",
      "\u001b[1;31mNameError\u001b[0m: name 'full_name' is not defined"
     ]
    }
   ],
   "source": [
    "print(\"\\n########## Melihat Panjang String #########\\n\")\n",
    "panjang=len(full_name)\n",
    "kar=F_name+M_name+L_name\n",
    "J_kar=len(kar)\n",
    "print('panjang string didalam nama lengkap anda =',panjang)\n",
    "print('jumlah huruf didalam nama lengkap anda =',J_kar)\n",
    "a=input('\\nmasukan huruf yang ingin diketahui jumlahnya =')\n",
    "jml=full_name.count(a)\n",
    "print('jumlah huruf ',a,' didalam nama lengkap anda =',jml)"
   ]
  },
  {
   "cell_type": "code",
   "execution_count": 9,
   "id": "cae7bc8d",
   "metadata": {},
   "outputs": [
    {
     "name": "stdout",
     "output_type": "stream",
     "text": [
      "\n",
      "################# Indexing ################\n",
      "\n",
      "Urutan ke 0 = B\n",
      "Urutan ke 1 = u\n",
      "Urutan ke 2 = d\n",
      "Urutan ke 3 = i\n",
      "Urutan ke 4 =  \n",
      "Urutan ke 5 = N\n",
      "Urutan ke 6 = u\n",
      "Urutan ke 7 = r\n",
      "\n",
      "masukan no .urutan huruf yang ingin diketahui =5\n",
      "Urutan ke  5 adalah karakter: N\n"
     ]
    }
   ],
   "source": [
    "print(\"\\n################# Indexing ################\\n\")\n",
    "print('Urutan ke 0 =', full_name[0])\n",
    "print('Urutan ke 1 =', full_name[1])\n",
    "print('Urutan ke 2 =', full_name[2])\n",
    "print('Urutan ke 3 =', full_name[3])\n",
    "print('Urutan ke 4 =', full_name[4])\n",
    "print('Urutan ke 5 =', full_name[5])\n",
    "print('Urutan ke 6 =', full_name[6])\n",
    "print('Urutan ke 7 =', full_name[7])\n",
    "urut=input('\\nmasukan no .urutan huruf yang ingin diketahui =')\n",
    "x=int(urut)\n",
    "y=full_name[x]\n",
    "print('Urutan ke ',urut +' adalah karakter: '+ y)"
   ]
  },
  {
   "cell_type": "code",
   "execution_count": 10,
   "id": "8955fa15",
   "metadata": {},
   "outputs": [
    {
     "name": "stdout",
     "output_type": "stream",
     "text": [
      "\n",
      "################# Mengubah Bentuk ################\n",
      "\n",
      "bentuk ascii dari karakter N  adalah:  78\n",
      "bentuk karakter dari ascii code 78  adalah:  N\n"
     ]
    }
   ],
   "source": [
    "print(\"\\n################# Mengubah Bentuk ################\\n\")\n",
    "ascii_code=ord(y)\n",
    "print('bentuk ascii dari karakter',y,' adalah: ',ascii_code)\n",
    "z=chr(ascii_code)\n",
    "print('bentuk karakter dari ascii code',ascii_code,' adalah: ',z)"
   ]
  },
  {
   "cell_type": "code",
   "execution_count": 11,
   "id": "ca361159",
   "metadata": {},
   "outputs": [
    {
     "name": "stdout",
     "output_type": "stream",
     "text": [
      "##########AKSES, INDEX dan SLICING DATA TUPEL##########\n",
      "\n",
      "contoh tupel =\n",
      "('Raffanda', 'ELzio', 'Dzaya', 'Kanaya', 'Adiva'),\n",
      " (123, 2016, 2022)\n",
      "Raffanda\n",
      "('ELzio', 'Dzaya')\n",
      "(2022,)\n"
     ]
    }
   ],
   "source": [
    "# membuat tuple\n",
    "tuple1 = ( 'Raffanda', 'ELzio', 'Dzaya', 'Kanaya', 'Adiva' )\n",
    "tuple2 = (123, 2016, 2022)\n",
    "print (10*'#'+'AKSES, INDEX dan SLICING DATA TUPEL'+10*'#'+'\\n')\n",
    "print (f\"contoh tupel =\\n{tuple1},\\n {tuple2}\")\n",
    "# indexing tuple elemen pertama pada tuple\n",
    "print (tuple1[0])\n",
    "# slicing data dari elemen kedua sampai ketiga\n",
    "print (tuple1[1:3])\n",
    "# slicing data dimulai dari elemen ketiga\n",
    "print (tuple2[2:])"
   ]
  },
  {
   "cell_type": "code",
   "execution_count": 12,
   "id": "3966475c",
   "metadata": {},
   "outputs": [
    {
     "name": "stdout",
     "output_type": "stream",
     "text": [
      "##########UPDATE/MENGABUNGKAN TUPEL##########\n",
      "tupel 1 dengan tipe data string = ('Raffanda', 'ELzio', 'Dzaya', 'Kanaya', 'Adiva')\n",
      "tupel 2 dengan tipe data numerik = (123, 2016, 2022)\n",
      "hasil gabungan tupel 1 & 2 = ('Raffanda', 'ELzio', 'Dzaya', 'Kanaya', 'Adiva', 123, 2016, 2022)\n"
     ]
    }
   ],
   "source": [
    "# Menggabungkan tuple1 dengan tuple2\n",
    "tuple3= (tuple1+tuple2)\n",
    "print (10*'#'+'UPDATE/MENGABUNGKAN TUPEL'+10*'#')\n",
    "print (f\"tupel 1 dengan tipe data string = {tuple1}\")\n",
    "print (f\"tupel 2 dengan tipe data numerik = {tuple2}\")\n",
    "print (f\"hasil gabungan tupel 1 & 2 = {tuple3}\")"
   ]
  },
  {
   "cell_type": "code",
   "execution_count": 13,
   "id": "9659747e",
   "metadata": {},
   "outputs": [
    {
     "name": "stdout",
     "output_type": "stream",
     "text": [
      "########## MENGHAPUS DATA TUPEL ##########\n",
      "\n",
      "menampilkan data tuple :  ('Raffanda', 'ELzio', 'Dzaya', 'Kanaya', 'Adiva', 123, 2016, 2022)\n"
     ]
    }
   ],
   "source": [
    "print (10*'#'+' MENGHAPUS DATA TUPEL '+10*'#'+'\\n')\n",
    "print(\"menampilkan data tuple : \",tuple3)\n",
    "del(tuple3)"
   ]
  },
  {
   "cell_type": "code",
   "execution_count": 14,
   "id": "54ce45bc",
   "metadata": {},
   "outputs": [
    {
     "name": "stdout",
     "output_type": "stream",
     "text": [
      "========Mutable Sequences========\n",
      "contoh tipe data List = ['nama', 'alamat', 'usia'] <class 'list'>\n",
      "\n",
      " ##### INDEXING PADA LIST#####\n",
      "['nama', 'alamat', 'usia']\n",
      "menampilkan nilai indexing 2 listStr = usia\n",
      "menampilkan nilai indexing -2 listStr = alamat\n"
     ]
    }
   ],
   "source": [
    "# Membuat List\n",
    "listStr=['nama','alamat','usia']\n",
    "listNum=[4,5,6,7,8]\n",
    "\n",
    "print(8*'='+'Mutable Sequences'+8*'=')\n",
    "print('contoh tipe data List =', listStr, type(listStr))\n",
    "print('\\n', 5*'#'+' INDEXING PADA LIST'+ 5*'#')\n",
    "print(listStr)\n",
    "print(f\"menampilkan nilai indexing 2 listStr = {listStr[2]}\")\n",
    "print(f\"menampilkan nilai indexing -2 listStr = {listStr[-2]}\")"
   ]
  },
  {
   "cell_type": "code",
   "execution_count": 15,
   "id": "5c3d8042",
   "metadata": {},
   "outputs": [
    {
     "name": "stdout",
     "output_type": "stream",
     "text": [
      "========Mutable Sequences========\n",
      "contoh tipe data List = ['Budi', 'Jl.Baru', '25'] <class 'list'>\n",
      "\n",
      " ##### INDEXING PADA LIST#####\n",
      "['Budi', 'Jl.Baru', '25']\n",
      "menampilkan nilai indexing 2 listStr = 25\n",
      "menampilkan nilai indexing -2 listStr = Jl.Baru\n"
     ]
    }
   ],
   "source": [
    "# Membuat List\n",
    "listStr=['Budi','Jl.Baru','25']\n",
    "listNum=[4,5,6,7,8]\n",
    "\n",
    "print(8*'='+'Mutable Sequences'+8*'=')\n",
    "print('contoh tipe data List =', listStr, type(listStr))\n",
    "print('\\n', 5*'#'+' INDEXING PADA LIST'+ 5*'#')\n",
    "print(listStr)\n",
    "print(f\"menampilkan nilai indexing 2 listStr = {listStr[2]}\")\n",
    "print(f\"menampilkan nilai indexing -2 listStr = {listStr[-2]}\")"
   ]
  },
  {
   "cell_type": "code",
   "execution_count": 16,
   "id": "185ec106",
   "metadata": {},
   "outputs": [
    {
     "name": "stdout",
     "output_type": "stream",
     "text": [
      "\n",
      " ##### TAMBAH ELEMEN NILAI PADA LIST#####\n",
      "menampilkan elemen nilai didalam list = [4, 5, 6, 7, 8]\n",
      "elemen nilai list setelah ditambahkan = [4, 5, 6, 7, 8, 'nilai']\n",
      "elemen nilai list setelah ditambahkan = ['Budi', 'Jl.Baru', '25', 'fungsi append']\n"
     ]
    }
   ],
   "source": [
    "print('\\n', 5*'#'+' TAMBAH ELEMEN NILAI PADA LIST'+ 5*'#')\n",
    "print(f\"menampilkan elemen nilai didalam list = {listNum}\")\n",
    "listNum=listNum+['nilai']\n",
    "print(f\"elemen nilai list setelah ditambahkan = {listNum}\")\n",
    "listStr.append('fungsi append')\n",
    "print(f\"elemen nilai list setelah ditambahkan = {listStr}\")"
   ]
  },
  {
   "cell_type": "code",
   "execution_count": 17,
   "id": "040a3abf",
   "metadata": {},
   "outputs": [
    {
     "name": "stdout",
     "output_type": "stream",
     "text": [
      "\n",
      " ##### MENGUBAH ELEMEN NILAI PADA LIST#####\n",
      "menampilkan elemen nilai didalam list = [4, 5, 6, 7, 8, 'nilai']\n",
      "menampilkan seluruh elemen nilai pada list setelah ditambahkan dan di update = [4, 5, 6, 7, 'update nilai', 'nilai']\n"
     ]
    }
   ],
   "source": [
    "print('\\n', 5*'#'+' MENGUBAH ELEMEN NILAI PADA LIST'+ 5*'#')\n",
    "print(f\"menampilkan elemen nilai didalam list = {listNum}\")\n",
    "listNum[4]='update nilai'\n",
    "print(f\"menampilkan seluruh elemen nilai pada list setelah ditambahkan dan di update = {listNum}\")"
   ]
  },
  {
   "cell_type": "code",
   "execution_count": 18,
   "id": "624057fc",
   "metadata": {},
   "outputs": [
    {
     "name": "stdout",
     "output_type": "stream",
     "text": [
      "\n",
      " #####MENGHAPUS ELEMEN NILAI PADA LIST#####\n",
      "nilai awal pada list = [4, 5, 6, 7, 'update nilai', 'nilai']\n",
      "nilai pada list setelah index ke 3 dihapus (del) = [4, 5, 6, 'update nilai', 'nilai']\n",
      "nilai pada list setelah nilai 4 dan update nilai dihapus (remove) = [5, 6, 'nilai']\n"
     ]
    }
   ],
   "source": [
    "print('\\n', 5*'#'+'MENGHAPUS ELEMEN NILAI PADA LIST'+ 5*'#')\n",
    "print(f\"nilai awal pada list = {listNum}\")\n",
    "# menghapus data list berdasarkan pada indexing\n",
    "del listNum[3]\n",
    "print(f\"nilai pada list setelah index ke 3 dihapus (del) = {listNum}\")\n",
    "# menghapus data list berdasarkan pada secara langsung\n",
    "listNum.remove(4)\n",
    "listNum.remove('update nilai')\n",
    "print(f\"nilai pada list setelah nilai 4 dan update nilai dihapus (remove) = {listNum}\")"
   ]
  },
  {
   "cell_type": "code",
   "execution_count": 19,
   "id": "95414e6f",
   "metadata": {},
   "outputs": [
    {
     "data": {
      "text/plain": [
       "array([ 4,  5,  6,  7,  8,  9, 10])"
      ]
     },
     "execution_count": 19,
     "metadata": {},
     "output_type": "execute_result"
    }
   ],
   "source": [
    "import numpy as np\n",
    "array1=np.array([4,5,6,7,8,9,10])\n",
    "array1"
   ]
  },
  {
   "cell_type": "code",
   "execution_count": 20,
   "id": "5d1c3eab",
   "metadata": {},
   "outputs": [
    {
     "data": {
      "text/plain": [
       "array([2. , 2.5, 3. , 3.5, 4. , 4.5, 5. ])"
      ]
     },
     "execution_count": 20,
     "metadata": {},
     "output_type": "execute_result"
    }
   ],
   "source": [
    "array1/2"
   ]
  },
  {
   "cell_type": "code",
   "execution_count": 21,
   "id": "a3b3acb2",
   "metadata": {},
   "outputs": [
    {
     "data": {
      "text/plain": [
       "array([[3, 7, 8],\n",
       "       [2, 3, 4],\n",
       "       [3, 4, 5]])"
      ]
     },
     "execution_count": 21,
     "metadata": {},
     "output_type": "execute_result"
    }
   ],
   "source": [
    "matriks1=np.array([[3,7,8],[2,3,4],[3,4,5]])\n",
    "matriks1"
   ]
  },
  {
   "cell_type": "code",
   "execution_count": 22,
   "id": "8f2cb9ac",
   "metadata": {},
   "outputs": [
    {
     "data": {
      "text/plain": [
       "array([[-0.33333333, -1.        ,  1.33333333],\n",
       "       [ 0.66666667, -3.        ,  1.33333333],\n",
       "       [-0.33333333,  3.        , -1.66666667]])"
      ]
     },
     "execution_count": 22,
     "metadata": {},
     "output_type": "execute_result"
    }
   ],
   "source": [
    "np.linalg.inv(matriks1)"
   ]
  },
  {
   "cell_type": "code",
   "execution_count": 23,
   "id": "b951c6e1",
   "metadata": {},
   "outputs": [
    {
     "name": "stdout",
     "output_type": "stream",
     "text": [
      "64\n",
      "88\n",
      "88\n"
     ]
    }
   ],
   "source": [
    "from sys import getsizeof\n",
    "cektuple=(3,7,8)\n",
    "ceklist=[3,7,8]\n",
    "ceknumpy=([3,7,8])\n",
    "print(getsizeof(cektuple))\n",
    "print(getsizeof(ceklist))\n",
    "print(getsizeof(ceknumpy))"
   ]
  },
  {
   "cell_type": "code",
   "execution_count": 24,
   "id": "0e9bf60e",
   "metadata": {},
   "outputs": [
    {
     "name": "stdout",
     "output_type": "stream",
     "text": [
      "##### TIPE DATA SET #####\n",
      "{'Ali', 'John', 'Eric'}\n",
      "{1, 2, 3}\n",
      "masukan tipe data set numerik =2\n",
      "isi data set setelah ditambahkan data adalah = {'Ali', 2, 'John', 'Eric'}\n"
     ]
    }
   ],
   "source": [
    "print(5*\"#\"+\" TIPE DATA SET \"+5*\"#\")\n",
    "# data set dengan tipe string\n",
    "string_set = { \"Eric\", \"Ali\", \"John\" }\n",
    "#data set dengan tipe numerik\n",
    "num_set={ 1, 2,3 }\n",
    "print(string_set)\n",
    "print(num_set)\n",
    "#menambahkan data set\n",
    "tambah_numset=int(input('masukan tipe data set numerik ='))\n",
    "string_set.add(tambah_numset)\n",
    "print(f\"isi data set setelah ditambahkan data adalah = {string_set}\")"
   ]
  },
  {
   "cell_type": "code",
   "execution_count": 25,
   "id": "341db16d",
   "metadata": {},
   "outputs": [
    {
     "name": "stdout",
     "output_type": "stream",
     "text": [
      "\n",
      "##### KONVERSI DATA/OBJEK LAIN MENJADI DATA SET #####\n",
      "\n",
      "masukan nama anda = Budi Nurcahyono\n",
      "masukan tanggal lahir anda = 22\n",
      "masukan bulan lahir anda = 11\n",
      "masukan tahun lahir anda = 1999\n",
      "nama anda di konversi menjadi data set = {'n', 'i', 'r', 'N', ' ', 'y', 'a', 'c', 'h', 'o', 'u', 'd', 'B'}\n",
      "nama anda di konversi menjadi data set = {11, 22, 1999}\n"
     ]
    }
   ],
   "source": [
    "print(\"\\n\"+5*\"#\"+\" KONVERSI DATA/OBJEK LAIN MENJADI DATA SET \"+5*\"#\"+\"\\n\")\n",
    "dtString=input('masukan nama anda = ')\n",
    "dt1=int(input('masukan tanggal lahir anda = '))\n",
    "dt2=int(input('masukan bulan lahir anda = '))\n",
    "dt3=int(input('masukan tahun lahir anda = '))\n",
    "x=set(dtString)\n",
    "y=set([dt1,dt2,dt3])\n",
    "print(f\"nama anda di konversi menjadi data set = {x}\")\n",
    "print(f\"nama anda di konversi menjadi data set = {y}\")"
   ]
  },
  {
   "cell_type": "code",
   "execution_count": 26,
   "id": "79bec112",
   "metadata": {},
   "outputs": [
    {
     "name": "stdout",
     "output_type": "stream",
     "text": [
      "\n",
      "##### KONVERSI TIPE DATA LIST KE DATA SET #####\n",
      "\n",
      "contoh data list = ['senin', 1, 'selasa', 2, 'rabu', 2, 'kamis', 4, 'senin', 4]\n",
      "hasil konversi data list menjadi data set = {1, 'senin', 2, 4, 'rabu', 'selasa', 'kamis'}\n",
      "\n",
      "##### KONVERSI TIPE DATA SET KE DATA LIST #####\n",
      "\n",
      "contoh data set = {1, 'senin', 2, 4, 'rabu', 'selasa', 'kamis'}\n",
      "hasil konversi data set menjadi data list = [1, 'senin', 2, 4, 'rabu', 'selasa', 'kamis']\n"
     ]
    }
   ],
   "source": [
    "print(\"\\n\"+5*\"#\"+\" KONVERSI TIPE DATA LIST KE DATA SET \"+5*\"#\"+\"\\n\")\n",
    "mylist=[\"senin\", 1, \"selasa\", 2, \"rabu\", 2, \"kamis\", 4,\"senin\", 4]\n",
    "print(f\"contoh data list = {mylist}\")\n",
    "myset=set(mylist)\n",
    "print(f\"hasil konversi data list menjadi data set = {myset}\")\n",
    "print(\"\\n\"+5*\"#\"+\" KONVERSI TIPE DATA SET KE DATA LIST \"+5*\"#\"+\"\\n\")\n",
    "print(f\"contoh data set = {myset}\")\n",
    "con_list=list(myset)\n",
    "print(f\"hasil konversi data set menjadi data list = {con_list}\")"
   ]
  },
  {
   "cell_type": "code",
   "execution_count": 27,
   "id": "8929b0b5",
   "metadata": {},
   "outputs": [
    {
     "name": "stdout",
     "output_type": "stream",
     "text": [
      "#####TIPE DATA DICTIONARY #####\n",
      "\n",
      "membuat sebuah kamus kosong =\n",
      " {}\n",
      "ini adalah bentuk dasar penulisan kamus =\n",
      " {'k1': 'kunci 1', 'k2': 'kunci2', 'k3': 123}\n",
      "ini adalah kunci pada kamus1 =\n",
      " dict_keys(['k1', 'k2', 'k3'])\n",
      "ini adalah item nilai pada kamus1 =\n",
      " dict_values(['kunci 1', 'kunci2', 123])\n"
     ]
    }
   ],
   "source": [
    "# Membuat Tipe Data Dictionary\n",
    "kamuskosong={}\n",
    "kamus1={'k1':\"kunci 1\",'k2':\"kunci2\",'k3':123}\n",
    "print(5*\"#\"+\"TIPE DATA DICTIONARY \"+5*\"#\"+\"\\n\")\n",
    "print(\"membuat sebuah kamus kosong =\"+ \"\\n\",(kamuskosong))\n",
    "print(\"ini adalah bentuk dasar penulisan kamus =\"+\"\\n\",(kamus1))\n",
    "print(\"ini adalah kunci pada kamus1 =\"+\"\\n\",(kamus1.keys()))\n",
    "print(f\"ini adalah item nilai pada kamus1 =\"+\"\\n\",(kamus1.values()))"
   ]
  },
  {
   "cell_type": "code",
   "execution_count": 28,
   "id": "65338e63",
   "metadata": {},
   "outputs": [
    {
     "name": "stdout",
     "output_type": "stream",
     "text": [
      "##########MENGAKSES DICTIONARY##########\n",
      "ini adalah contoh tipe data dictionary\n",
      " {'nama': 'elzio', 'usia': '6 tahun', 'alamat': 'tangerang'}\n",
      "elzio\n",
      "6 tahun\n",
      "tangerang\n",
      "Raffanda\n"
     ]
    }
   ],
   "source": [
    "dic1={\"nama\":\"elzio\",\"usia\":'6 tahun','alamat':'tangerang'}\n",
    "dic2={1:\"Raffanda\",2:'Elzio',3:'Jaya'}\n",
    "print(10*\"#\"+\"MENGAKSES DICTIONARY\"+10*\"#\")\n",
    "print(\"ini adalah contoh tipe data dictionary\"+\"\\n\",(dic1))\n",
    "print((dic1['nama']))\n",
    "print((dic1['usia']))\n",
    "print((dic1['alamat']))\n",
    "print(dic2[1])"
   ]
  },
  {
   "cell_type": "code",
   "execution_count": 29,
   "id": "f3082472",
   "metadata": {},
   "outputs": [
    {
     "name": "stdout",
     "output_type": "stream",
     "text": [
      "##########MENAMBAH & UPDATE DICTIONARY##########\n",
      "data dictionary awal\n",
      " {'nama': 'elzio', 'usia': '6 tahun', 'alamat': 'tangerang'}\n",
      "data dictionary setelah di update\n",
      " {'nama': 'elzio', 'usia': '8 tahun', 'alamat': 'tangerang'}\n",
      "data dictionary setelah di tambahkan\n",
      " {'nama': 'elzio', 'usia': '8 tahun', 'alamat': 'tangerang', 'Jenis_Kelamin': 'Laki-Laki'}\n"
     ]
    }
   ],
   "source": [
    "print(10*\"#\"+\"MENAMBAH & UPDATE DICTIONARY\"+10*\"#\")\n",
    "print(\"data dictionary awal\"+\"\\n\",(dic1))\n",
    "# update item nilai usia\n",
    "dic1['usia'] =\"8 tahun\"; \n",
    "print(\"data dictionary setelah di update\"+\"\\n\",(dic1))\n",
    "# menambahkan pasangan kunci dan nilai baru\n",
    "dic1['Jenis_Kelamin'] = \"Laki-Laki\" \n",
    "print(\"data dictionary setelah di tambahkan\"+\"\\n\",(dic1))"
   ]
  },
  {
   "cell_type": "code",
   "execution_count": 30,
   "id": "fc343281",
   "metadata": {},
   "outputs": [
    {
     "name": "stdout",
     "output_type": "stream",
     "text": [
      "##########MENGHAPUS DATA DICTIONARY##########\n",
      "data awal dictionary ={'nama': 'elzio', 'usia': '8 tahun', 'alamat': 'tangerang', 'Jenis_Kelamin': 'Laki-Laki'}\n",
      "data dictionary setelah alamat dihapus ={'nama': 'elzio', 'usia': '8 tahun', 'Jenis_Kelamin': 'Laki-Laki'}\n",
      "data dictionary setelah semua nilai dihapus ={}\n"
     ]
    },
    {
     "ename": "NameError",
     "evalue": "name 'dic1' is not defined",
     "output_type": "error",
     "traceback": [
      "\u001b[1;31m---------------------------------------------------------------------------\u001b[0m",
      "\u001b[1;31mNameError\u001b[0m                                 Traceback (most recent call last)",
      "Cell \u001b[1;32mIn[30], line 10\u001b[0m\n\u001b[0;32m      8\u001b[0m \u001b[38;5;66;03m# menghapus data dictionary\u001b[39;00m\n\u001b[0;32m      9\u001b[0m \u001b[38;5;28;01mdel\u001b[39;00m dic1\n\u001b[1;32m---> 10\u001b[0m \u001b[38;5;28mprint\u001b[39m(\u001b[38;5;124mf\u001b[39m\u001b[38;5;124m\"\u001b[39m\u001b[38;5;124msetelah data dictionary dihapus =\u001b[39m\u001b[38;5;132;01m{\u001b[39;00mdic1\u001b[38;5;132;01m}\u001b[39;00m\u001b[38;5;124m\"\u001b[39m)\n",
      "\u001b[1;31mNameError\u001b[0m: name 'dic1' is not defined"
     ]
    }
   ],
   "source": [
    "print(10*\"#\"+\"MENGHAPUS DATA DICTIONARY\"+10*\"#\")\n",
    "print(f\"data awal dictionary ={dic1}\")\n",
    "del dic1['alamat'] # menhapus data dengan key 'alamat'\n",
    "print(f\"data dictionary setelah alamat dihapus ={dic1}\")\n",
    "# menghapus semua nilai didalam dictionary\n",
    "dic1.clear()\n",
    "print(f\"data dictionary setelah semua nilai dihapus ={dic1}\")\n",
    "# menghapus data dictionary\n",
    "del dic1\n",
    "print(f\"setelah data dictionary dihapus ={dic1}\")"
   ]
  },
  {
   "cell_type": "code",
   "execution_count": 31,
   "id": "d5156b38",
   "metadata": {},
   "outputs": [
    {
     "name": "stdout",
     "output_type": "stream",
     "text": [
      "******** OPERATOR ASSIGNMENT *******\n",
      "\n",
      "nilai a =  7\n",
      "nilai b =  2\n",
      "nilai c hasil dari nilai a ditambahkan dengan nilai b =  9\n",
      "nilai c ditambahkan dengan nilai a =  16\n",
      "nilai c dikurangi dengan nilai a =  9\n",
      "nilai c dikali dengan nilai b =  18\n",
      "nilai a dibagi dengan nilai b =  3.5\n",
      "nilai a dibagi dengan nilai b =  1.0\n",
      "nilai c dipangkatkan dengan nilai b =  324\n",
      "nilai a modulus dari nilai b =  0\n"
     ]
    }
   ],
   "source": [
    "print('******** OPERATOR ASSIGNMENT *******\\n')\n",
    "a=7\n",
    "b=2\n",
    "c=a+b\n",
    "print('nilai a = ',a)\n",
    "print('nilai b = ',b)\n",
    "print('nilai c hasil dari nilai a ditambahkan dengan nilai b = ',c)\n",
    "c+=a\n",
    "print('nilai c ditambahkan dengan nilai a = ',c)\n",
    "c-=a\n",
    "print('nilai c dikurangi dengan nilai a = ',c)\n",
    "c*=b\n",
    "print('nilai c dikali dengan nilai b = ',c)\n",
    "a/=b\n",
    "print('nilai a dibagi dengan nilai b = ',a)\n",
    "a//=b\n",
    "print('nilai a dibagi dengan nilai b = ',a)\n",
    "c**=b\n",
    "print('nilai c dipangkatkan dengan nilai b = ',c)\n",
    "c%=b\n",
    "print('nilai a modulus dari nilai b = ',c)"
   ]
  },
  {
   "cell_type": "code",
   "execution_count": 32,
   "id": "ab88ecc9",
   "metadata": {},
   "outputs": [
    {
     "name": "stdout",
     "output_type": "stream",
     "text": [
      "******* OPERATOR ARITMATIKA ********\n",
      "hasil dari operator penjumlahan =  8\n",
      "hasil dari operator Pengurangan =  7\n",
      "hasil dari operator Pembagian bilangan float =  2.3333333333333335\n",
      "hasil dari operator Pembagian bilangan int =  2\n",
      "hasil darioperator modulus 1\n",
      "hasil dari operator pemangkatan 27\n"
     ]
    }
   ],
   "source": [
    "print ('******* OPERATOR ARITMATIKA ********')\n",
    "a1= 3+5 \n",
    "print('hasil dari operator penjumlahan = ',a1)\n",
    "b1= 8-1\n",
    "print('hasil dari operator Pengurangan = ',b1)\n",
    "c1=7/3 \n",
    "print('hasil dari operator Pembagian bilangan float = ', c1)\n",
    "d1=7//3 \n",
    "print('hasil dari operator Pembagian bilangan int = ', d1)\n",
    "e1= 7%3 \n",
    "print('hasil darioperator modulus',e1)\n",
    "f1= 3**3 \n",
    "print('hasil dari operator pemangkatan',f1)"
   ]
  },
  {
   "cell_type": "code",
   "execution_count": 33,
   "id": "b157bc98",
   "metadata": {},
   "outputs": [
    {
     "name": "stdout",
     "output_type": "stream",
     "text": [
      "masukan angka pertama =2\n",
      "masukan angka kedua =4\n",
      "apakah nilai pertama sama dengan nilai kedua ?\n",
      "False\n",
      "apakah nilai pertama tidak sama dengan nilai kedua ?\n",
      "True\n",
      "apakah nilai pertama lebih besar dari nilai kedua ?\n",
      "False\n",
      "apakah nilai pertama lebih kecil dari nilai kedua ?\n",
      "True\n",
      "apakah nilai pertama lebih besar sama dengan nilai kedua ?\n",
      "False\n",
      "apakah nilai pertama lebih kecil sama dengan nilai kedua ?\n",
      "True\n"
     ]
    }
   ],
   "source": [
    "a=(input('masukan angka pertama ='))\n",
    "b=(input('masukan angka kedua ='))\n",
    "print('apakah nilai pertama sama dengan nilai kedua ?')\n",
    "print(a==b)\n",
    "print('apakah nilai pertama tidak sama dengan nilai kedua ?')\n",
    "print(a!=b)\n",
    "print('apakah nilai pertama lebih besar dari nilai kedua ?')\n",
    "print(a>b)\n",
    "print('apakah nilai pertama lebih kecil dari nilai kedua ?')\n",
    "print(a<b)\n",
    "print('apakah nilai pertama lebih besar sama dengan nilai kedua ?')\n",
    "print(a>=b)\n",
    "print('apakah nilai pertama lebih kecil sama dengan nilai kedua ?')\n",
    "print(a<=b)"
   ]
  },
  {
   "cell_type": "code",
   "execution_count": 34,
   "id": "a5439b65",
   "metadata": {},
   "outputs": [
    {
     "name": "stdout",
     "output_type": "stream",
     "text": [
      "\n",
      "########### OPERATOR LOGIKA ###########\n",
      "#######AND########\n",
      "\n",
      "bernilai TRUE jika kedua nilai variabel=TRUE\n",
      "nilai a dan b = False\n",
      "apakah nilai b1 lebih kecil dari a1 dan nilai c1 lebih kecil dari a1 = False\n",
      "nilai a dan b = False\n",
      "apakah nilai b1 lebih kecil dari a1 dan nilai a1 lebih dari c1 = False\n",
      "nilai a dan c = True\n",
      "apakah nilai a1 lebih kecil dari b1 dan nilai a1 lebih dari b1 = True\n",
      "\n",
      "#######OR########\n",
      "\n",
      "bernilai TRUE jika salah satu dari kedua nilai variabel=TRUE\n",
      "nilai a atau b = True\n",
      "\n",
      "#######NOT########\n",
      "\n",
      "bernilai TRUE jika nilai sebuah variabel=FALSE\n",
      "nilai a  = False\n",
      "nilai a1 tidak lebih besar dari b1= True\n",
      "nilai b  = True\n"
     ]
    }
   ],
   "source": [
    "print('\\n########### OPERATOR LOGIKA ###########')\n",
    "a=True\n",
    "b=False\n",
    "c=True\n",
    "a1=1\n",
    "b1=2\n",
    "c1=3\n",
    "print('#######AND########\\n')\n",
    "print('bernilai TRUE jika kedua nilai variabel=TRUE')\n",
    "print('nilai a dan b =',a and b)\n",
    "print('apakah nilai b1 lebih kecil dari a1 dan nilai c1 lebih kecil dari a1 =',(b1<a1) and (c1<a1))\n",
    "print('nilai a dan b =',a and b)\n",
    "print('apakah nilai b1 lebih kecil dari a1 dan nilai a1 lebih dari c1 =',(b1<a1) and (a1<c1))\n",
    "print('nilai a dan c =',a and c)\n",
    "print('apakah nilai a1 lebih kecil dari b1 dan nilai a1 lebih dari b1 =',(a1<b1) and (a1<c1))\n",
    "print('\\n#######OR########\\n')\n",
    "print('bernilai TRUE jika salah satu dari kedua nilai variabel=TRUE')\n",
    "print('nilai a atau b =',a or b)\n",
    "print('\\n#######NOT########\\n')\n",
    "print('bernilai TRUE jika nilai sebuah variabel=FALSE')\n",
    "print('nilai a  =',not a)\n",
    "print('nilai a1 tidak lebih besar dari b1=', not(a1>b1))\n",
    "print('nilai b  =',not b)"
   ]
  },
  {
   "cell_type": "code",
   "execution_count": 35,
   "id": "f2e90d1f",
   "metadata": {},
   "outputs": [
    {
     "name": "stdout",
     "output_type": "stream",
     "text": [
      "\n",
      "################### BITWISE AND (&) ############################\n",
      "jika nilai a dan b =TRUE(1), hasilnya adalah TRUE (1)\n",
      "Nilai dari a = 60  binary : 00111100\n",
      "Nilai dari b = 13  binary : 00001101\n",
      "Nilai dari a = 12  binary : 00001100\n",
      "\n",
      "################### BITWISE OR (|) #############################\n",
      "jika kedua nilai atau salah satu nilai dari a dan b =TRUE(1), hasilnya adalah TRUE (1)\n",
      "Nilai dari a = 60  binary : 00111100\n",
      "Nilai dari b = 13  binary : 00001101\n",
      "Nilai dari c = 61  binary : 00111101\n",
      "\n",
      "############### BITWISE XOR (^) ################################\n",
      "jika salah satu nilai dari a dan b =TRUE(1), hasilnya adalah TRUE (1)\n",
      "Nilai dari a = 60  binary : 00111100\n",
      "Nilai dari b = 13  binary : 00001101\n",
      "Nilai dari a = 49  binary : 00110001\n",
      "\n",
      "################ BITWISE NOT (~) ###############################\n",
      "Operator biner Negative, membalik nilai bit. Misal dari 1 menjadi 0\n",
      "Nilai dari x = 0  binary : 00000000\n",
      "Nilai dari -x = -1  binary : -0000001\n",
      "Nilai dari b = 13  binary : 00001101\n",
      "Nilai dari -b = -14  binary : -0001110\n",
      "\n",
      "################ BITWISE SHIFT LEFT (<<) ######################\n",
      "menggeser nilai kekiri bit sebanyak n kali\n",
      "Nilai dari a = 60  binary : 00111100\n",
      "menggeser bit Nilai dari a sebanyak 2 kali = 240  binary : 11110000\n",
      "\n",
      "################# BITWISE SHIFT RIGHT(>>) ######################\n",
      "menggeser nilai kekanan bit sebanyak n kali\n",
      "Nilai dari a = 60  binary : 00111100\n",
      "menggeser bit Nilai dari a kekanan 2 kali = 15  binary : 00001111\n"
     ]
    }
   ],
   "source": [
    "a = 60 # 60 = 0011 1100\n",
    "b = 13 # 13 = 0000 1101\n",
    "print(\"\\n################### BITWISE AND (&) ############################\")\n",
    "c = a & b; # 12 = 0000 1100\n",
    "print (\"jika nilai a dan b =TRUE(1), hasilnya adalah TRUE (1)\")\n",
    "print (\"Nilai dari a =\", a,' binary :',format(a,'08b'))\n",
    "print (\"Nilai dari b =\", b,' binary :',format(b,'08b'))\n",
    "print (\"Nilai dari a =\", c,' binary :',format(c,'08b'))\n",
    "print('\\n################### BITWISE OR (|) #############################')\n",
    "c = a | b; # 61 = 0011 1101\n",
    "print (\"jika kedua nilai atau salah satu nilai dari a dan b =TRUE(1), hasilnya adalah TRUE (1)\")\n",
    "print (\"Nilai dari a =\", a,' binary :',format(a,'08b'))\n",
    "print (\"Nilai dari b =\", b,' binary :',format(b,'08b'))\n",
    "print (\"Nilai dari c =\", c,' binary :',format(c,'08b'))\n",
    "print('\\n############### BITWISE XOR (^) ################################')\n",
    "c = a ^ b; # 49 = 0011 0001\n",
    "print (\"jika salah satu nilai dari a dan b =TRUE(1), hasilnya adalah TRUE (1)\")\n",
    "print (\"Nilai dari a =\", a,' binary :',format(a,'08b'))\n",
    "print (\"Nilai dari b =\", b,' binary :',format(b,'08b'))\n",
    "print (\"Nilai dari a =\", c,' binary :',format(c,'08b'))\n",
    "print('\\n################ BITWISE NOT (~) ###############################')\n",
    "x = 0\n",
    "y=~x; \n",
    "x1=~b;\n",
    "print (\"Operator biner Negative, membalik nilai bit. Misal dari 1 menjadi 0\")\n",
    "print (\"Nilai dari x =\", x,' binary :',format(x,'08b'))\n",
    "print (\"Nilai dari -x =\", y,' binary :',format(y,'08b'))\n",
    "print (\"Nilai dari b =\", b,' binary :',format(b,'08b'))\n",
    "print (\"Nilai dari -b =\", x1,' binary :',format(x1,'08b'))\n",
    "print('\\n################ BITWISE SHIFT LEFT (<<) ######################')\n",
    "c = a << 2; # 240 = 1111 0000\n",
    "print (\"menggeser nilai kekiri bit sebanyak n kali\")\n",
    "print (\"Nilai dari a =\", a,' binary :',format(a,'08b'))\n",
    "print (\"menggeser bit Nilai dari a sebanyak 2 kali =\", c,' binary :',format(c,'08b'))\n",
    "print('\\n################# BITWISE SHIFT RIGHT(>>) ######################')\n",
    "c = a >> 2; # 15 = 0000 1111\n",
    "print (\"menggeser nilai kekanan bit sebanyak n kali\")\n",
    "print (\"Nilai dari a =\", a,' binary :',format(a,'08b'))\n",
    "print (\"menggeser bit Nilai dari a kekanan 2 kali =\", c,' binary :',format(c,'08b'))"
   ]
  },
  {
   "cell_type": "code",
   "execution_count": 36,
   "id": "1ade6d24",
   "metadata": {},
   "outputs": [
    {
     "name": "stdout",
     "output_type": "stream",
     "text": [
      "{'banana', 'eggplant', 'tomato', 'apple'}\n",
      "{'tomato'}\n",
      "{'eggplant', 'banana', 'apple'}\n"
     ]
    }
   ],
   "source": [
    "fruits = {\"apple\", \"banana\", \"tomato\"}\n",
    "veggies = {\"eggplant\", \"tomato\"}\n",
    "print(fruits | veggies)\n",
    "print(fruits & veggies)\n",
    "print(fruits ^ veggies)"
   ]
  },
  {
   "cell_type": "code",
   "execution_count": 37,
   "id": "ca57891c",
   "metadata": {},
   "outputs": [
    {
     "name": "stdout",
     "output_type": "stream",
     "text": [
      "\n",
      "######## Operator in #######\n",
      "bernilai TRUE jika sebuah nilai terdapat didalam list\n",
      "nilai 5 ada didalam X list =  True\n",
      "nilai 12 ada didalam X list =  False\n",
      "\n",
      "######## Operator not in #######\n",
      "bernilai TRUE jika sebuah nilai tidak terdapat didalam list\n",
      "huruf A tidak ada didalam Y tuple =  True\n",
      "huruf N tidak ada didalam Y tuple =  False\n"
     ]
    }
   ],
   "source": [
    "x_list=[1, 3, 5, 7, 9]\n",
    "y_tuple=('N', 'E', 'T', 'I', 'N', 'D', 'O')\n",
    "print('\\n######## Operator in #######')\n",
    "print('bernilai TRUE jika sebuah nilai terdapat didalam list')\n",
    "print( 'nilai 5 ada didalam X list = ',5 in x_list)\n",
    "print( 'nilai 12 ada didalam X list = ', 12 in x_list)\n",
    "print('\\n######## Operator not in #######')\n",
    "print('bernilai TRUE jika sebuah nilai tidak terdapat didalam list')\n",
    "print( 'huruf A tidak ada didalam Y tuple = ', 'A' not in y_tuple)\n",
    "print( 'huruf N tidak ada didalam Y tuple = ', 'N'  not in y_tuple)"
   ]
  },
  {
   "cell_type": "code",
   "execution_count": null,
   "id": "cb39abb4",
   "metadata": {},
   "outputs": [],
   "source": []
  }
 ],
 "metadata": {
  "kernelspec": {
   "display_name": "Python 3 (ipykernel)",
   "language": "python",
   "name": "python3"
  },
  "language_info": {
   "codemirror_mode": {
    "name": "ipython",
    "version": 3
   },
   "file_extension": ".py",
   "mimetype": "text/x-python",
   "name": "python",
   "nbconvert_exporter": "python",
   "pygments_lexer": "ipython3",
   "version": "3.11.5"
  }
 },
 "nbformat": 4,
 "nbformat_minor": 5
}
